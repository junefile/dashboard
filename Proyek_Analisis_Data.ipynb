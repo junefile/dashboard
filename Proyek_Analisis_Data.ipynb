{
  "cells": [
    {
      "cell_type": "markdown",
      "metadata": {
        "id": "H9wADwK78DCz"
      },
      "source": [
        "# Proyek Analisis Data: [E-Commerce Public Dataset]\n",
        "- **Nama:** Siti Yuniasih\n",
        "- **Email:** yuniasihana38@gmail.com\n",
        "- **ID Dicoding:** siti_yuniasih"
      ]
    },
    {
      "cell_type": "markdown",
      "metadata": {
        "id": "eE0raob58DC0"
      },
      "source": [
        "## Menentukan Pertanyaan Bisnis"
      ]
    },
    {
      "cell_type": "markdown",
      "metadata": {
        "id": "GmQeQ5YF8DC0"
      },
      "source": [
        "- Apa distribusi jumlah pelanggan di setiap negara bagian?\n",
        "- Berapa jumlah pesanan yang diterima per bulan, dan bagaimana trennya?"
      ]
    },
    {
      "cell_type": "markdown",
      "metadata": {
        "id": "H-z4QGlO8DC1"
      },
      "source": [
        "## Import Semua Packages/Library yang Digunakan"
      ]
    },
    {
      "cell_type": "code",
      "execution_count": null,
      "metadata": {
        "id": "FVYwaObI8DC1"
      },
      "outputs": [],
      "source": [
        "import pandas as pd\n",
        "import seaborn as sns\n",
        "import matplotlib.pyplot as plt\n"
      ]
    },
    {
      "cell_type": "code",
      "source": [
        "from google.colab import drive\n",
        "drive.mount('/content/drive')"
      ],
      "metadata": {
        "colab": {
          "base_uri": "https://localhost:8080/"
        },
        "id": "FG0cBseQ4amv",
        "outputId": "b974155e-af2e-4378-eaca-6d6dc3e0f7fa"
      },
      "execution_count": null,
      "outputs": [
        {
          "output_type": "stream",
          "name": "stdout",
          "text": [
            "Drive already mounted at /content/drive; to attempt to forcibly remount, call drive.mount(\"/content/drive\", force_remount=True).\n"
          ]
        }
      ]
    },
    {
      "cell_type": "markdown",
      "metadata": {
        "id": "h_Sh51Xy8DC1"
      },
      "source": [
        "## Data Wrangling"
      ]
    },
    {
      "cell_type": "markdown",
      "metadata": {
        "id": "sXU2GBYu8DC1"
      },
      "source": [
        "### Gathering Data\n",
        "Mengumpulkan semua data yang dibutuhkan :"
      ]
    },
    {
      "cell_type": "code",
      "execution_count": null,
      "metadata": {
        "id": "zjCBk1BI8DC1"
      },
      "outputs": [],
      "source": [
        "customers_df = pd.read_csv('/content/drive/MyDrive/E-Commerce Public Dataset/customers_dataset.csv')\n",
        "orders_df = pd.read_csv('/content/drive/MyDrive/E-Commerce Public Dataset/orders_dataset.csv')\n",
        "sellers_df = pd.read_csv('/content/drive/MyDrive/E-Commerce Public Dataset/sellers_dataset.csv')"
      ]
    },
    {
      "cell_type": "code",
      "source": [
        "customers_df.head(), orders_df.head(), sellers_df.head()"
      ],
      "metadata": {
        "colab": {
          "base_uri": "https://localhost:8080/"
        },
        "id": "ebV67Se_44ae",
        "outputId": "a2926092-4c6b-432b-e420-8dd2d140c57b"
      },
      "execution_count": null,
      "outputs": [
        {
          "output_type": "execute_result",
          "data": {
            "text/plain": [
              "(                        customer_id                customer_unique_id  \\\n",
              " 0  06b8999e2fba1a1fbc88172c00ba8bc7  861eff4711a542e4b93843c6dd7febb0   \n",
              " 1  18955e83d337fd6b2def6b18a428ac77  290c77bc529b7ac935b93aa66c333dc3   \n",
              " 2  4e7b3e00288586ebd08712fdd0374a03  060e732b5b29e8181a18229c7b0b2b5e   \n",
              " 3  b2b6027bc5c5109e529d4dc6358b12c3  259dac757896d24d7702b9acbbff3f3c   \n",
              " 4  4f2d8ab171c80ec8364f7c12e35b23ad  345ecd01c38d18a9036ed96c73b8d066   \n",
              " \n",
              "    customer_zip_code_prefix          customer_city customer_state  \n",
              " 0                     14409                 franca             SP  \n",
              " 1                      9790  sao bernardo do campo             SP  \n",
              " 2                      1151              sao paulo             SP  \n",
              " 3                      8775        mogi das cruzes             SP  \n",
              " 4                     13056               campinas             SP  ,\n",
              "                            order_id                       customer_id  \\\n",
              " 0  e481f51cbdc54678b7cc49136f2d6af7  9ef432eb6251297304e76186b10a928d   \n",
              " 1  53cdb2fc8bc7dce0b6741e2150273451  b0830fb4747a6c6d20dea0b8c802d7ef   \n",
              " 2  47770eb9100c2d0c44946d9cf07ec65d  41ce2a54c0b03bf3443c3d931a367089   \n",
              " 3  949d5b44dbf5de918fe9c16f97b45f8a  f88197465ea7920adcdbec7375364d82   \n",
              " 4  ad21c59c0840e6cb83a9ceb5573f8159  8ab97904e6daea8866dbdbc4fb7aad2c   \n",
              " \n",
              "   order_status order_purchase_timestamp    order_approved_at  \\\n",
              " 0    delivered      2017-10-02 10:56:33  2017-10-02 11:07:15   \n",
              " 1    delivered      2018-07-24 20:41:37  2018-07-26 03:24:27   \n",
              " 2    delivered      2018-08-08 08:38:49  2018-08-08 08:55:23   \n",
              " 3    delivered      2017-11-18 19:28:06  2017-11-18 19:45:59   \n",
              " 4    delivered      2018-02-13 21:18:39  2018-02-13 22:20:29   \n",
              " \n",
              "   order_delivered_carrier_date order_delivered_customer_date  \\\n",
              " 0          2017-10-04 19:55:00           2017-10-10 21:25:13   \n",
              " 1          2018-07-26 14:31:00           2018-08-07 15:27:45   \n",
              " 2          2018-08-08 13:50:00           2018-08-17 18:06:29   \n",
              " 3          2017-11-22 13:39:59           2017-12-02 00:28:42   \n",
              " 4          2018-02-14 19:46:34           2018-02-16 18:17:02   \n",
              " \n",
              "   order_estimated_delivery_date  \n",
              " 0           2017-10-18 00:00:00  \n",
              " 1           2018-08-13 00:00:00  \n",
              " 2           2018-09-04 00:00:00  \n",
              " 3           2017-12-15 00:00:00  \n",
              " 4           2018-02-26 00:00:00  ,\n",
              "                           seller_id  seller_zip_code_prefix  \\\n",
              " 0  3442f8959a84dea7ee197c632cb2df15                   13023   \n",
              " 1  d1b65fc7debc3361ea86b5f14c68d2e2                   13844   \n",
              " 2  ce3ad9de960102d0677a81f5d0bb7b2d                   20031   \n",
              " 3  c0f3eea2e14555b6faeea3dd58c1b1c3                    4195   \n",
              " 4  51a04a8a6bdcb23deccc82b0b80742cf                   12914   \n",
              " \n",
              "          seller_city seller_state  \n",
              " 0           campinas           SP  \n",
              " 1         mogi guacu           SP  \n",
              " 2     rio de janeiro           RJ  \n",
              " 3          sao paulo           SP  \n",
              " 4  braganca paulista           SP  )"
            ]
          },
          "metadata": {},
          "execution_count": 6
        }
      ]
    },
    {
      "cell_type": "markdown",
      "metadata": {
        "id": "FHSiqaZp8DC1"
      },
      "source": [
        "### Assessing Data\n",
        "Menilai kualitas dari seluruh data yang akan digunakan."
      ]
    },
    {
      "cell_type": "code",
      "source": [
        "customers_df.info(), orders_df.info(), sellers_df.info()"
      ],
      "metadata": {
        "id": "ax-3tEjc9Cj1",
        "colab": {
          "base_uri": "https://localhost:8080/"
        },
        "outputId": "ef3a542f-be0a-4f64-c7c4-afa7815fdedd"
      },
      "execution_count": null,
      "outputs": [
        {
          "output_type": "stream",
          "name": "stdout",
          "text": [
            "<class 'pandas.core.frame.DataFrame'>\n",
            "RangeIndex: 99441 entries, 0 to 99440\n",
            "Data columns (total 5 columns):\n",
            " #   Column                    Non-Null Count  Dtype \n",
            "---  ------                    --------------  ----- \n",
            " 0   customer_id               99441 non-null  object\n",
            " 1   customer_unique_id        99441 non-null  object\n",
            " 2   customer_zip_code_prefix  99441 non-null  int64 \n",
            " 3   customer_city             99441 non-null  object\n",
            " 4   customer_state            99441 non-null  object\n",
            "dtypes: int64(1), object(4)\n",
            "memory usage: 3.8+ MB\n",
            "<class 'pandas.core.frame.DataFrame'>\n",
            "RangeIndex: 99441 entries, 0 to 99440\n",
            "Data columns (total 8 columns):\n",
            " #   Column                         Non-Null Count  Dtype \n",
            "---  ------                         --------------  ----- \n",
            " 0   order_id                       99441 non-null  object\n",
            " 1   customer_id                    99441 non-null  object\n",
            " 2   order_status                   99441 non-null  object\n",
            " 3   order_purchase_timestamp       99441 non-null  object\n",
            " 4   order_approved_at              99281 non-null  object\n",
            " 5   order_delivered_carrier_date   97658 non-null  object\n",
            " 6   order_delivered_customer_date  96476 non-null  object\n",
            " 7   order_estimated_delivery_date  99441 non-null  object\n",
            "dtypes: object(8)\n",
            "memory usage: 6.1+ MB\n",
            "<class 'pandas.core.frame.DataFrame'>\n",
            "RangeIndex: 3095 entries, 0 to 3094\n",
            "Data columns (total 4 columns):\n",
            " #   Column                  Non-Null Count  Dtype \n",
            "---  ------                  --------------  ----- \n",
            " 0   seller_id               3095 non-null   object\n",
            " 1   seller_zip_code_prefix  3095 non-null   int64 \n",
            " 2   seller_city             3095 non-null   object\n",
            " 3   seller_state            3095 non-null   object\n",
            "dtypes: int64(1), object(3)\n",
            "memory usage: 96.8+ KB\n"
          ]
        },
        {
          "output_type": "execute_result",
          "data": {
            "text/plain": [
              "(None, None, None)"
            ]
          },
          "metadata": {},
          "execution_count": 7
        }
      ]
    },
    {
      "cell_type": "markdown",
      "metadata": {
        "id": "EhN5R4hr8DC1"
      },
      "source": [
        "### Cleaning Data\n",
        "Membersihkan berbagai masalah yang telah teridentifikasi dalam proses assessing data."
      ]
    },
    {
      "cell_type": "code",
      "source": [
        "# Mengubah kolom date di orders_df ke datetime format\n",
        "orders_df['order_purchase_timestamp'] = pd.to_datetime(orders_df['order_purchase_timestamp'])\n",
        "orders_df['order_approved_at'] = pd.to_datetime(orders_df['order_approved_at'])\n",
        "orders_df['order_delivered_carrier_date'] = pd.to_datetime(orders_df['order_delivered_carrier_date'])\n",
        "orders_df['order_delivered_customer_date'] = pd.to_datetime(orders_df['order_delivered_customer_date'])\n",
        "orders_df['order_estimated_delivery_date'] = pd.to_datetime(orders_df['order_estimated_delivery_date'])\n",
        "\n",
        "# Mengatasi missing value di kolom date tanpa inplace parameter\n",
        "orders_df['order_approved_at'] = orders_df['order_approved_at'].fillna(orders_df['order_purchase_timestamp'])\n",
        "orders_df['order_delivered_carrier_date'] = orders_df['order_delivered_carrier_date'].fillna(orders_df['order_approved_at'].median())\n",
        "orders_df['order_delivered_customer_date'] = orders_df['order_delivered_customer_date'].fillna(orders_df['order_estimated_delivery_date'])\n",
        "\n",
        "# Mengecek perubahan\n",
        "orders_df.info()\n",
        "\n"
      ],
      "metadata": {
        "id": "jVnYpprE9Evz",
        "colab": {
          "base_uri": "https://localhost:8080/"
        },
        "outputId": "56cb2211-cd50-4821-9cb1-dc4748524bd7"
      },
      "execution_count": null,
      "outputs": [
        {
          "output_type": "stream",
          "name": "stdout",
          "text": [
            "<class 'pandas.core.frame.DataFrame'>\n",
            "RangeIndex: 99441 entries, 0 to 99440\n",
            "Data columns (total 8 columns):\n",
            " #   Column                         Non-Null Count  Dtype         \n",
            "---  ------                         --------------  -----         \n",
            " 0   order_id                       99441 non-null  object        \n",
            " 1   customer_id                    99441 non-null  object        \n",
            " 2   order_status                   99441 non-null  object        \n",
            " 3   order_purchase_timestamp       99441 non-null  datetime64[ns]\n",
            " 4   order_approved_at              99441 non-null  datetime64[ns]\n",
            " 5   order_delivered_carrier_date   99441 non-null  datetime64[ns]\n",
            " 6   order_delivered_customer_date  99441 non-null  datetime64[ns]\n",
            " 7   order_estimated_delivery_date  99441 non-null  datetime64[ns]\n",
            "dtypes: datetime64[ns](5), object(3)\n",
            "memory usage: 6.1+ MB\n"
          ]
        }
      ]
    },
    {
      "cell_type": "markdown",
      "metadata": {
        "id": "gp-Y6wU38DC1"
      },
      "source": [
        "## Exploratory Data Analysis (EDA)"
      ]
    },
    {
      "cell_type": "code",
      "execution_count": null,
      "metadata": {
        "id": "e9CQCZjk8DC2",
        "colab": {
          "base_uri": "https://localhost:8080/",
          "height": 206
        },
        "outputId": "2f0e9a76-cabd-4cd9-aee0-50df722006e7"
      },
      "outputs": [
        {
          "output_type": "execute_result",
          "data": {
            "text/plain": [
              "   customer_state  customer_count\n",
              "25             SP           41746\n",
              "18             RJ           12852\n",
              "10             MG           11635\n",
              "22             RS            5466\n",
              "17             PR            5045"
            ],
            "text/html": [
              "\n",
              "  <div id=\"df-637dec5a-3917-4a72-8c96-2e60da27b4a1\" class=\"colab-df-container\">\n",
              "    <div>\n",
              "<style scoped>\n",
              "    .dataframe tbody tr th:only-of-type {\n",
              "        vertical-align: middle;\n",
              "    }\n",
              "\n",
              "    .dataframe tbody tr th {\n",
              "        vertical-align: top;\n",
              "    }\n",
              "\n",
              "    .dataframe thead th {\n",
              "        text-align: right;\n",
              "    }\n",
              "</style>\n",
              "<table border=\"1\" class=\"dataframe\">\n",
              "  <thead>\n",
              "    <tr style=\"text-align: right;\">\n",
              "      <th></th>\n",
              "      <th>customer_state</th>\n",
              "      <th>customer_count</th>\n",
              "    </tr>\n",
              "  </thead>\n",
              "  <tbody>\n",
              "    <tr>\n",
              "      <th>25</th>\n",
              "      <td>SP</td>\n",
              "      <td>41746</td>\n",
              "    </tr>\n",
              "    <tr>\n",
              "      <th>18</th>\n",
              "      <td>RJ</td>\n",
              "      <td>12852</td>\n",
              "    </tr>\n",
              "    <tr>\n",
              "      <th>10</th>\n",
              "      <td>MG</td>\n",
              "      <td>11635</td>\n",
              "    </tr>\n",
              "    <tr>\n",
              "      <th>22</th>\n",
              "      <td>RS</td>\n",
              "      <td>5466</td>\n",
              "    </tr>\n",
              "    <tr>\n",
              "      <th>17</th>\n",
              "      <td>PR</td>\n",
              "      <td>5045</td>\n",
              "    </tr>\n",
              "  </tbody>\n",
              "</table>\n",
              "</div>\n",
              "    <div class=\"colab-df-buttons\">\n",
              "\n",
              "  <div class=\"colab-df-container\">\n",
              "    <button class=\"colab-df-convert\" onclick=\"convertToInteractive('df-637dec5a-3917-4a72-8c96-2e60da27b4a1')\"\n",
              "            title=\"Convert this dataframe to an interactive table.\"\n",
              "            style=\"display:none;\">\n",
              "\n",
              "  <svg xmlns=\"http://www.w3.org/2000/svg\" height=\"24px\" viewBox=\"0 -960 960 960\">\n",
              "    <path d=\"M120-120v-720h720v720H120Zm60-500h600v-160H180v160Zm220 220h160v-160H400v160Zm0 220h160v-160H400v160ZM180-400h160v-160H180v160Zm440 0h160v-160H620v160ZM180-180h160v-160H180v160Zm440 0h160v-160H620v160Z\"/>\n",
              "  </svg>\n",
              "    </button>\n",
              "\n",
              "  <style>\n",
              "    .colab-df-container {\n",
              "      display:flex;\n",
              "      gap: 12px;\n",
              "    }\n",
              "\n",
              "    .colab-df-convert {\n",
              "      background-color: #E8F0FE;\n",
              "      border: none;\n",
              "      border-radius: 50%;\n",
              "      cursor: pointer;\n",
              "      display: none;\n",
              "      fill: #1967D2;\n",
              "      height: 32px;\n",
              "      padding: 0 0 0 0;\n",
              "      width: 32px;\n",
              "    }\n",
              "\n",
              "    .colab-df-convert:hover {\n",
              "      background-color: #E2EBFA;\n",
              "      box-shadow: 0px 1px 2px rgba(60, 64, 67, 0.3), 0px 1px 3px 1px rgba(60, 64, 67, 0.15);\n",
              "      fill: #174EA6;\n",
              "    }\n",
              "\n",
              "    .colab-df-buttons div {\n",
              "      margin-bottom: 4px;\n",
              "    }\n",
              "\n",
              "    [theme=dark] .colab-df-convert {\n",
              "      background-color: #3B4455;\n",
              "      fill: #D2E3FC;\n",
              "    }\n",
              "\n",
              "    [theme=dark] .colab-df-convert:hover {\n",
              "      background-color: #434B5C;\n",
              "      box-shadow: 0px 1px 3px 1px rgba(0, 0, 0, 0.15);\n",
              "      filter: drop-shadow(0px 1px 2px rgba(0, 0, 0, 0.3));\n",
              "      fill: #FFFFFF;\n",
              "    }\n",
              "  </style>\n",
              "\n",
              "    <script>\n",
              "      const buttonEl =\n",
              "        document.querySelector('#df-637dec5a-3917-4a72-8c96-2e60da27b4a1 button.colab-df-convert');\n",
              "      buttonEl.style.display =\n",
              "        google.colab.kernel.accessAllowed ? 'block' : 'none';\n",
              "\n",
              "      async function convertToInteractive(key) {\n",
              "        const element = document.querySelector('#df-637dec5a-3917-4a72-8c96-2e60da27b4a1');\n",
              "        const dataTable =\n",
              "          await google.colab.kernel.invokeFunction('convertToInteractive',\n",
              "                                                    [key], {});\n",
              "        if (!dataTable) return;\n",
              "\n",
              "        const docLinkHtml = 'Like what you see? Visit the ' +\n",
              "          '<a target=\"_blank\" href=https://colab.research.google.com/notebooks/data_table.ipynb>data table notebook</a>'\n",
              "          + ' to learn more about interactive tables.';\n",
              "        element.innerHTML = '';\n",
              "        dataTable['output_type'] = 'display_data';\n",
              "        await google.colab.output.renderOutput(dataTable, element);\n",
              "        const docLink = document.createElement('div');\n",
              "        docLink.innerHTML = docLinkHtml;\n",
              "        element.appendChild(docLink);\n",
              "      }\n",
              "    </script>\n",
              "  </div>\n",
              "\n",
              "\n",
              "<div id=\"df-e00160e3-e0c0-4124-8e16-f8e966ff921c\">\n",
              "  <button class=\"colab-df-quickchart\" onclick=\"quickchart('df-e00160e3-e0c0-4124-8e16-f8e966ff921c')\"\n",
              "            title=\"Suggest charts\"\n",
              "            style=\"display:none;\">\n",
              "\n",
              "<svg xmlns=\"http://www.w3.org/2000/svg\" height=\"24px\"viewBox=\"0 0 24 24\"\n",
              "     width=\"24px\">\n",
              "    <g>\n",
              "        <path d=\"M19 3H5c-1.1 0-2 .9-2 2v14c0 1.1.9 2 2 2h14c1.1 0 2-.9 2-2V5c0-1.1-.9-2-2-2zM9 17H7v-7h2v7zm4 0h-2V7h2v10zm4 0h-2v-4h2v4z\"/>\n",
              "    </g>\n",
              "</svg>\n",
              "  </button>\n",
              "\n",
              "<style>\n",
              "  .colab-df-quickchart {\n",
              "      --bg-color: #E8F0FE;\n",
              "      --fill-color: #1967D2;\n",
              "      --hover-bg-color: #E2EBFA;\n",
              "      --hover-fill-color: #174EA6;\n",
              "      --disabled-fill-color: #AAA;\n",
              "      --disabled-bg-color: #DDD;\n",
              "  }\n",
              "\n",
              "  [theme=dark] .colab-df-quickchart {\n",
              "      --bg-color: #3B4455;\n",
              "      --fill-color: #D2E3FC;\n",
              "      --hover-bg-color: #434B5C;\n",
              "      --hover-fill-color: #FFFFFF;\n",
              "      --disabled-bg-color: #3B4455;\n",
              "      --disabled-fill-color: #666;\n",
              "  }\n",
              "\n",
              "  .colab-df-quickchart {\n",
              "    background-color: var(--bg-color);\n",
              "    border: none;\n",
              "    border-radius: 50%;\n",
              "    cursor: pointer;\n",
              "    display: none;\n",
              "    fill: var(--fill-color);\n",
              "    height: 32px;\n",
              "    padding: 0;\n",
              "    width: 32px;\n",
              "  }\n",
              "\n",
              "  .colab-df-quickchart:hover {\n",
              "    background-color: var(--hover-bg-color);\n",
              "    box-shadow: 0 1px 2px rgba(60, 64, 67, 0.3), 0 1px 3px 1px rgba(60, 64, 67, 0.15);\n",
              "    fill: var(--button-hover-fill-color);\n",
              "  }\n",
              "\n",
              "  .colab-df-quickchart-complete:disabled,\n",
              "  .colab-df-quickchart-complete:disabled:hover {\n",
              "    background-color: var(--disabled-bg-color);\n",
              "    fill: var(--disabled-fill-color);\n",
              "    box-shadow: none;\n",
              "  }\n",
              "\n",
              "  .colab-df-spinner {\n",
              "    border: 2px solid var(--fill-color);\n",
              "    border-color: transparent;\n",
              "    border-bottom-color: var(--fill-color);\n",
              "    animation:\n",
              "      spin 1s steps(1) infinite;\n",
              "  }\n",
              "\n",
              "  @keyframes spin {\n",
              "    0% {\n",
              "      border-color: transparent;\n",
              "      border-bottom-color: var(--fill-color);\n",
              "      border-left-color: var(--fill-color);\n",
              "    }\n",
              "    20% {\n",
              "      border-color: transparent;\n",
              "      border-left-color: var(--fill-color);\n",
              "      border-top-color: var(--fill-color);\n",
              "    }\n",
              "    30% {\n",
              "      border-color: transparent;\n",
              "      border-left-color: var(--fill-color);\n",
              "      border-top-color: var(--fill-color);\n",
              "      border-right-color: var(--fill-color);\n",
              "    }\n",
              "    40% {\n",
              "      border-color: transparent;\n",
              "      border-right-color: var(--fill-color);\n",
              "      border-top-color: var(--fill-color);\n",
              "    }\n",
              "    60% {\n",
              "      border-color: transparent;\n",
              "      border-right-color: var(--fill-color);\n",
              "    }\n",
              "    80% {\n",
              "      border-color: transparent;\n",
              "      border-right-color: var(--fill-color);\n",
              "      border-bottom-color: var(--fill-color);\n",
              "    }\n",
              "    90% {\n",
              "      border-color: transparent;\n",
              "      border-bottom-color: var(--fill-color);\n",
              "    }\n",
              "  }\n",
              "</style>\n",
              "\n",
              "  <script>\n",
              "    async function quickchart(key) {\n",
              "      const quickchartButtonEl =\n",
              "        document.querySelector('#' + key + ' button');\n",
              "      quickchartButtonEl.disabled = true;  // To prevent multiple clicks.\n",
              "      quickchartButtonEl.classList.add('colab-df-spinner');\n",
              "      try {\n",
              "        const charts = await google.colab.kernel.invokeFunction(\n",
              "            'suggestCharts', [key], {});\n",
              "      } catch (error) {\n",
              "        console.error('Error during call to suggestCharts:', error);\n",
              "      }\n",
              "      quickchartButtonEl.classList.remove('colab-df-spinner');\n",
              "      quickchartButtonEl.classList.add('colab-df-quickchart-complete');\n",
              "    }\n",
              "    (() => {\n",
              "      let quickchartButtonEl =\n",
              "        document.querySelector('#df-e00160e3-e0c0-4124-8e16-f8e966ff921c button');\n",
              "      quickchartButtonEl.style.display =\n",
              "        google.colab.kernel.accessAllowed ? 'block' : 'none';\n",
              "    })();\n",
              "  </script>\n",
              "</div>\n",
              "\n",
              "    </div>\n",
              "  </div>\n"
            ],
            "application/vnd.google.colaboratory.intrinsic+json": {
              "type": "dataframe",
              "variable_name": "customers_by_state",
              "summary": "{\n  \"name\": \"customers_by_state\",\n  \"rows\": 27,\n  \"fields\": [\n    {\n      \"column\": \"customer_state\",\n      \"properties\": {\n        \"dtype\": \"string\",\n        \"num_unique_values\": 27,\n        \"samples\": [\n          \"ES\",\n          \"MT\",\n          \"GO\"\n        ],\n        \"semantic_type\": \"\",\n        \"description\": \"\"\n      }\n    },\n    {\n      \"column\": \"customer_count\",\n      \"properties\": {\n        \"dtype\": \"number\",\n        \"std\": 8270,\n        \"min\": 46,\n        \"max\": 41746,\n        \"num_unique_values\": 27,\n        \"samples\": [\n          2033,\n          907,\n          2020\n        ],\n        \"semantic_type\": \"\",\n        \"description\": \"\"\n      }\n    }\n  ]\n}"
            }
          },
          "metadata": {},
          "execution_count": 10
        }
      ],
      "source": [
        "# Mengelompokkan pelanggan berdasarkan negara bagian untuk menghitung jumlah pelanggan unik di setiap negara bagian\n",
        "customers_by_state = customers_df.groupby('customer_state')['customer_id'].nunique().reset_index()\n",
        "customers_by_state.rename(columns={'customer_id': 'customer_count'}, inplace=True)\n",
        "\n",
        "# Mengurutkan data berdasarkan jumlah pelanggan secara menurun\n",
        "customers_by_state = customers_by_state.sort_values(by='customer_count', ascending=False)\n",
        "\n",
        "# Menampilkan 5 negara bagian dengan pelanggan terbanyak\n",
        "customers_by_state.head()\n"
      ]
    },
    {
      "cell_type": "markdown",
      "metadata": {
        "id": "zsyZjqak8DC2"
      },
      "source": [
        "## Visualization & Explanatory Analysis"
      ]
    },
    {
      "cell_type": "markdown",
      "metadata": {
        "id": "HZxOiQ6n8DC2"
      },
      "source": [
        "### Apa distribusi jumlah pelanggan di setiap negara bagian?"
      ]
    },
    {
      "cell_type": "code",
      "execution_count": null,
      "metadata": {
        "id": "1swJUdAD8DC2",
        "colab": {
          "base_uri": "https://localhost:8080/",
          "height": 740
        },
        "outputId": "6c8535e6-1835-42bc-afc7-76b3531bc8e5"
      },
      "outputs": [
        {
          "output_type": "display_data",
          "data": {
            "text/plain": [
              "<Figure size 1200x800 with 1 Axes>"
            ],
            "image/png": "[encoded data removed]"
          },
          "metadata": {}
        }
      ],
      "source": [
        "# Menghitung jumlah pelanggan per negara bagian\n",
        "customers_by_state = customers_df.groupby('customer_state')['customer_id'].nunique().reset_index()\n",
        "customers_by_state.rename(columns={'customer_id': 'customer_count'}, inplace=True)\n",
        "\n",
        "# Plot distribusi pelanggan berdasarkan negara bagian\n",
        "plt.figure(figsize=(12, 8))\n",
        "sns.barplot(x='customer_count', y='customer_state', data=customers_by_state)\n",
        "plt.title('Distribusi Jumlah Pelanggan per Negara Bagian', fontsize=16)\n",
        "plt.xlabel('Jumlah Pelanggan')\n",
        "plt.ylabel('Negara Bagian')\n",
        "plt.show()\n"
      ]
    },
    {
      "cell_type": "markdown",
      "metadata": {
        "id": "DgHI7CiU8DC2"
      },
      "source": [
        "### Berapa jumlah pesanan yang diterima per bulan, dan bagaimana trennya?"
      ]
    },
    {
      "cell_type": "code",
      "source": [
        "orders_by_month = orders_df.groupby('order_month')['order_id'].count().reset_index()\n",
        "orders_by_month.rename(columns={'order_id': 'order_count'}, inplace=True)"
      ],
      "metadata": {
        "id": "BTb5LdMu81QY"
      },
      "execution_count": null,
      "outputs": []
    },
    {
      "cell_type": "code",
      "source": [
        "orders_by_month['order_month'] = orders_by_month['order_month'].astype(str)\n",
        "print(orders_by_month)"
      ],
      "metadata": {
        "colab": {
          "base_uri": "https://localhost:8080/"
        },
        "id": "1A7awa3t9o8Z",
        "outputId": "d694469d-a0a6-485e-9eae-da5dc651dc98"
      },
      "execution_count": null,
      "outputs": [
        {
          "output_type": "stream",
          "name": "stdout",
          "text": [
            "   order_month  order_count\n",
            "0      2016-09            1\n",
            "1      2016-10          326\n",
            "2      2016-12            1\n",
            "3      2017-01          763\n",
            "4      2017-02         1779\n",
            "5      2017-03         2691\n",
            "6      2017-04         2378\n",
            "7      2017-05         3702\n",
            "8      2017-06         3256\n",
            "9      2017-07         3979\n",
            "10     2017-08         4354\n",
            "11     2017-09         4305\n",
            "12     2017-10         4595\n",
            "13     2017-11         7404\n",
            "14     2017-12         5839\n",
            "15     2018-01         7188\n",
            "16     2018-02         6710\n",
            "17     2018-03         7291\n",
            "18     2018-04         6778\n",
            "19     2018-05         7067\n",
            "20     2018-06         6164\n",
            "21     2018-07         6177\n",
            "22     2018-08         6673\n",
            "23     2018-09           16\n",
            "24     2018-10            4\n"
          ]
        }
      ]
    },
    {
      "cell_type": "code",
      "source": [
        "plt.figure(figsize=(12, 6))\n",
        "sns.lineplot(x='order_month', y='order_count', data=orders_by_month, marker='o')\n",
        "plt.xticks(rotation=45)\n",
        "plt.title('Jumlah Pesanan per Bulan', fontsize=16)\n",
        "plt.xlabel('Bulan')\n",
        "plt.ylabel('Jumlah Pesanan')\n",
        "plt.show()"
      ],
      "metadata": {
        "colab": {
          "base_uri": "https://localhost:8080/",
          "height": 407
        },
        "id": "1NByoyaU9s67",
        "outputId": "258fc145-ca7f-4355-ad03-765349a49d2d"
      },
      "execution_count": null,
      "outputs": [
        {
          "output_type": "display_data",
          "data": {
            "text/plain": [
              "<Figure size 1200x600 with 1 Axes>"
            ],
            "image/png": "[encoded data removed]"
          },
          "metadata": {}
        }
      ]
    },
    {
      "cell_type": "markdown",
      "metadata": {
        "id": "_WeHlCeX8DC2"
      },
      "source": [
        "## Conclusion"
      ]
    },
    {
      "cell_type": "markdown",
      "metadata": {
        "id": "ZTcyR48Y8DC2"
      },
      "source": [
        "**Apa distribusi jumlah pelanggan di setiap negara bagian?**"
      ]
    },
    {
      "cell_type": "markdown",
      "source": [
        "**Hasil:** Berdasarkan analisis jumlah pelanggan, negara bagian dengan jumlah pelanggan terbanyak adalah São Paulo (SP) dengan total 41.746 pelanggan.\n",
        "\n",
        "**Visualisasi:** Grafik batang (bar chart) menampilkan distribusi jumlah pelanggan di berbagai negara bagian, memberikan gambaran yang jelas tentang provinsi yang mendominasi jumlah pelanggan.\n",
        "\n",
        "**Insight:**\n",
        "- São Paulo menjadi pasar utama dengan jumlah pelanggan tertinggi.\n",
        "- Provinsi dengan jumlah pelanggan rendah bisa menjadi peluang untuk memperluas pemasaran."
      ],
      "metadata": {
        "id": "LgLCKyj4GCXS"
      }
    },
    {
      "cell_type": "markdown",
      "source": [
        "**Berapa jumlah pesanan yang diterima per bulan, dan bagaimana trennya?**"
      ],
      "metadata": {
        "id": "yxe326RKGZkd"
      }
    },
    {
      "cell_type": "markdown",
      "source": [
        "**Hasil:** Berdasarkan analisis jumlah pesanan per bulan, bulan dengan pesanan terbanyak adalah November 2017 dengan 7.404 pesanan.\n",
        "\n",
        "**Visualisasi:** Grafik garis (line plot) menunjukkan tren pesanan yang diterima per bulan, membantu dalam memahami fluktuasi dari waktu ke waktu.\n",
        "\n",
        "**Insight:**\n",
        "- Bulan November 2017 menunjukkan peningkatan pesanan yang signifikan, kemungkinan terkait dengan peristiwa musiman seperti promosi atau liburan.\n",
        "- Tren ini bisa membantu dalam merencanakan kampanye penjualan atau menambah stok di bulan-bulan dengan performa tinggi."
      ],
      "metadata": {
        "id": "uYPTMx2rGcvP"
      }
    }
  ],
  "metadata": {
    "kernelspec": {
      "display_name": "Python 3",
      "language": "python",
      "name": "python3"
    },
    "language_info": {
      "name": "python",
      "version": "3.8.0 (tags/v3.8.0:fa919fd, Oct 14 2019, 19:21:23) [MSC v.1916 32 bit (Intel)]"
    },
    "orig_nbformat": 4,
    "vscode": {
      "interpreter": {
        "hash": "972b3bf27e332e87b5379f2791f6ef9dfc79c71018c370b0d7423235e20fe4d7"
      }
    },
    "colab": {
      "provenance": []
    }
  },
  "nbformat": 4,
  "nbformat_minor": 0
}